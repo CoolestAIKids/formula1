{
 "cells": [
  {
   "attachments": {},
   "cell_type": "markdown",
   "metadata": {},
   "source": [
    "Formula 1"
   ]
  },
  {
   "cell_type": "code",
   "execution_count": 12,
   "metadata": {
    "notebookRunGroups": {
     "groupValue": "12"
    }
   },
   "outputs": [],
   "source": [
    "import numpy as np\n",
    "import pandas as pd\n",
    "from sklearn.preprocessing import StandardScaler\n",
    "from sklearn.model_selection import train_test_split\n",
    "from sklearn.linear_model import LogisticRegression\n",
    "from sklearn.svm import SVC\n",
    "from sklearn.preprocessing import PolynomialFeatures\n",
    "import matplotlib.pyplot as plt\n",
    "import tensorflow as tf\n",
    "from tensorflow.keras.models import Sequential\n",
    "from tensorflow.keras.layers import Dense\n"
   ]
  },
  {
   "cell_type": "code",
   "execution_count": 13,
   "metadata": {
    "notebookRunGroups": {
     "groupValue": "1"
    }
   },
   "outputs": [],
   "source": [
    "# Config for regression\n",
    "regress = True"
   ]
  },
  {
   "cell_type": "code",
   "execution_count": null,
   "metadata": {
    "notebookRunGroups": {
     "groupValue": "2"
    }
   },
   "outputs": [],
   "source": [
    "# Config for Other\n",
    "regress = False"
   ]
  },
  {
   "attachments": {},
   "cell_type": "markdown",
   "metadata": {},
   "source": [
    "# 1 Gather Data\n",
    "We want to..."
   ]
  },
  {
   "cell_type": "code",
   "execution_count": 14,
   "metadata": {
    "notebookRunGroups": {
     "groupValue": "12"
    }
   },
   "outputs": [],
   "source": [
    "data_dir_path = \"../data/\"\n",
    "# Read the csv files\n",
    "results = pd.read_csv(data_dir_path + \"results.csv\", na_values=np.nan)\n",
    "driver_standings = pd.read_csv(data_dir_path + \"driver_standings.csv\", na_values=np.nan)\n",
    "constructor_standings = pd.read_csv(\n",
    "    data_dir_path + \"constructor_standings.csv\", na_values=np.nan\n",
    ")\n",
    "raceYears = pd.read_csv(data_dir_path + \"races.csv\", na_values=np.nan)\n",
    "names = pd.read_csv(data_dir_path + \"drivers.csv\", na_values=np.nan)\n",
    "\n",
    "# Filter columns\n",
    "raceYears = raceYears[[\"raceId\", \"year\"]]\n",
    "# raceYears = raceYears[raceYears[\"year\"] >= 2010]  # Only data after 2010\n",
    "results = results[[\"raceId\", \"driverId\", \"constructorId\", \"grid\", \"position\"]]\n",
    "driver_standings = driver_standings[[\"raceId\", \"driverId\", \"position\"]]\n",
    "constructor_standings = constructor_standings[[\"raceId\", \"constructorId\", \"position\"]]\n",
    "names = names[[\"driverId\", \"driverRef\"]]\n",
    "\n",
    "# rename because other csv also have position\n",
    "driver_standings = driver_standings.rename(columns={\"position\": \"driverStanding\"})\n",
    "constructor_standings = constructor_standings.rename(\n",
    "    columns={\"position\": \"constructorStanding\"}\n",
    ")\n",
    "\n",
    "year_driver_standing = pd.merge(raceYears, driver_standings, on=[\"raceId\"], how=\"inner\")\n",
    "\n",
    "results_driver_standings = pd.merge(\n",
    "    results, year_driver_standing, on=[\"raceId\", \"driverId\"], how=\"inner\"\n",
    ")\n",
    "\n",
    "joined_data = pd.merge(\n",
    "    results_driver_standings,\n",
    "    constructor_standings,\n",
    "    on=[\"raceId\", \"constructorId\"],\n",
    "    how=\"inner\",\n",
    ")\n",
    "\n",
    "joined_data = pd.merge(joined_data, names, on=[\"driverId\"], how=\"inner\")\n",
    "joined_data.drop(columns=[\"raceId\", \"constructorId\", \"driverId\"], inplace=True)\n",
    "joined_data.replace(to_replace=\"\\\\N\", value=20, inplace=True)\n",
    "joined_data[\"position\"] = joined_data[\"position\"].astype(int)\n",
    "\n",
    "# Drop year before calculating the mean for every driver\n",
    "joined_data.drop(\"year\", axis=1, inplace=True)\n",
    "\n",
    "# joined_data = joined_data[joined_data[\"position\"] <= 5]\n",
    "\n",
    "X = joined_data[[\"grid\", \"driverStanding\", \"constructorStanding\"]]\n",
    "Y = joined_data[[\"position\"]]\n",
    "\n",
    "\n",
    "# Divide by train data and test data\n",
    "X_train, X_test, Y_train, Y_test = train_test_split(\n",
    "    X, Y, test_size=0.2, random_state=42, shuffle=True\n",
    ")\n"
   ]
  },
  {
   "cell_type": "code",
   "execution_count": 15,
   "metadata": {
    "notebookRunGroups": {
     "groupValue": "12"
    }
   },
   "outputs": [],
   "source": [
    "def edit_Y(y, regression=True):\n",
    "    \"\"\"Edits Y to be 1 or not 1 for regression or not regression.\n",
    "\n",
    "    Notes:\n",
    "        Pandas DF is passed by reference, so no returns.\n",
    "\n",
    "    Args:\n",
    "        y (pd.DataFrame): Dataframe with column position\n",
    "        regression (bool, optional): True if regression, false for others.\n",
    "    \"\"\"\n",
    "    y.loc[(y[\"position\"] != 1) & (y[\"position\"] != 2) & (y[\"position\"] != 3)] = (\n",
    "        0 if regression else -1\n",
    "    )\n",
    "    # y.loc[(y[\"position\"] == 2) | (y[\"position\"] == 3)] = 1"
   ]
  },
  {
   "cell_type": "code",
   "execution_count": 16,
   "metadata": {
    "notebookRunGroups": {
     "groupValue": "12"
    }
   },
   "outputs": [],
   "source": [
    "X_train = X_train.to_numpy()\n",
    "X_test = X_test.to_numpy()\n",
    "\n",
    "edit_Y(Y_train, regression=regress)\n",
    "edit_Y(Y_test, regression=regress)\n",
    "\n",
    "Y_train = Y_train.to_numpy()\n",
    "Y_test = Y_test.to_numpy()\n",
    "\n",
    "Y_train = Y_train.reshape(Y_train.shape[0])\n",
    "Y_test = Y_test.reshape(Y_test.shape[0])\n"
   ]
  },
  {
   "attachments": {},
   "cell_type": "markdown",
   "metadata": {},
   "source": [
    "# 2 Standardise and Scale"
   ]
  },
  {
   "cell_type": "code",
   "execution_count": 17,
   "metadata": {
    "notebookRunGroups": {
     "groupValue": "12"
    }
   },
   "outputs": [],
   "source": [
    "scaler = StandardScaler()\n",
    "\n",
    "X_train = scaler.fit_transform(X_train)\n",
    "X_test = scaler.transform(X_test)"
   ]
  },
  {
   "attachments": {},
   "cell_type": "markdown",
   "metadata": {},
   "source": [
    "# 3 Plotting Functions"
   ]
  },
  {
   "cell_type": "code",
   "execution_count": 18,
   "metadata": {
    "notebookRunGroups": {
     "groupValue": "12"
    }
   },
   "outputs": [],
   "source": [
    "def plot_error(training_error, testing_error):\n",
    "    \"\"\"Plots the training and testing error.\n",
    "\n",
    "    Args:\n",
    "        training_error (list): List of training errors\n",
    "        testing_error (list): List of testing errors\n",
    "    \"\"\"\n",
    "    plt.plot(training_error, label=\"Training Error\")\n",
    "    plt.plot(testing_error, label=\"Testing Error\")\n",
    "    plt.xticks(np.arange(len(testing_error)), np.arange(1, len(testing_error) + 1))\n",
    "    plt.xlabel(\"Degree\")\n",
    "    plt.ylabel(\"Error\")\n",
    "    plt.legend()\n",
    "    plt.show()\n",
    "\n",
    "\n",
    "def plot_accuracy(training_acc, testing_acc):\n",
    "    \"\"\"Plots the training and testing error.\n",
    "\n",
    "    Args:\n",
    "        training_error (list): List of training errors\n",
    "        testing_error (list): List of testing errors\n",
    "    \"\"\"\n",
    "    plt.plot(training_acc, label=\"Training Accuracy\")\n",
    "    plt.plot(testing_acc, label=\"Testing Accuracy\")\n",
    "    plt.xticks(np.arange(len(testing_acc)), np.arange(1, len(testing_acc) + 1))\n",
    "    plt.xlabel(\"Degree\")\n",
    "    plt.ylabel(\"Accuracy\")\n",
    "    plt.legend()\n",
    "    plt.show()\n",
    "\n",
    "\n",
    "def plot(training_error, testing_error, training_acc, testing_acc):\n",
    "    plot_error(training_error, testing_error)\n",
    "    plot_accuracy(training_acc, testing_acc)\n"
   ]
  },
  {
   "attachments": {},
   "cell_type": "markdown",
   "metadata": {},
   "source": [
    "# 4A Logistic Regression"
   ]
  },
  {
   "cell_type": "code",
   "execution_count": 19,
   "metadata": {
    "notebookRunGroups": {
     "groupValue": "1"
    }
   },
   "outputs": [],
   "source": [
    "def polynomial_logistic_regression(X_train, Y_train, X_test, Y_test, max_degree=6):\n",
    "    \"\"\"Polynomial logistic regression\n",
    "\n",
    "    Args:\n",
    "        X_train (np.array): Training data\n",
    "        Y_train (np.array): Training labels\n",
    "        X_test (np.array): Testing data\n",
    "        Y_test (np.array): Testing labels\n",
    "    \"\"\"\n",
    "    logreg = LogisticRegression(multi_class=\"multinomial\", max_iter=10_000)\n",
    "    training_error, testing_error = [], []\n",
    "    training_acc, testing_acc = [], []\n",
    "\n",
    "    print(\"Polynomial Logistic Regression Score\")\n",
    "    print(\"Degree \\t Test Score \\t Train Score\")\n",
    "    for i in range(1, max_degree + 1):\n",
    "        # Init polynomial features\n",
    "        poly = PolynomialFeatures(degree=i)\n",
    "\n",
    "        # Polynomial fit of training data\n",
    "        X_train_poly = poly.fit_transform(X_train)\n",
    "\n",
    "        # Train model\n",
    "        logreg.fit(X_train_poly, Y_train)\n",
    "\n",
    "        # Polynomial fit of test data\n",
    "        X_test_poly = poly.fit_transform(X_test)\n",
    "\n",
    "        # Get scores\n",
    "        training_score = logreg.score(X_train_poly, Y_train)\n",
    "        testing_score = logreg.score(X_test_poly, Y_test)\n",
    "\n",
    "        # Append accuracy\n",
    "        training_acc.append(training_score)\n",
    "        testing_acc.append(testing_score)\n",
    "\n",
    "        # Append errors\n",
    "        training_error.append(1 - training_score)\n",
    "        testing_error.append(1 - testing_score)\n",
    "\n",
    "        # Fancy print B)\n",
    "        print(f\"{i} \\t {testing_score*100.0:.2f}% \\t {training_score*100.0:.2f}%\")\n",
    "\n",
    "    return training_error, testing_error, training_acc, testing_acc\n"
   ]
  },
  {
   "cell_type": "code",
   "execution_count": 9,
   "metadata": {
    "notebookRunGroups": {
     "groupValue": "1"
    }
   },
   "outputs": [
    {
     "name": "stdout",
     "output_type": "stream",
     "text": [
      "3 \t 88.84% \t 88.36%\n",
      "4 \t 88.73% \t 88.40%\n",
      "5 \t 88.69% \t 88.42%\n",
      "6 \t 88.57% \t 88.44%\n",
      "7 \t 88.50% \t 88.58%\n"
     ]
    }
   ],
   "source": [
    "(\n",
    "    training_error,\n",
    "    testing_error,\n",
    "    training_acc,\n",
    "    testing_acc,\n",
    ") = polynomial_logistic_regression(X_train, Y_train, X_test, Y_test, max_degree=7)"
   ]
  },
  {
   "cell_type": "code",
   "execution_count": 10,
   "metadata": {
    "notebookRunGroups": {
     "groupValue": "1"
    }
   },
   "outputs": [
    {
     "data": {
      "image/png": "[encoded data removed]",
      "text/plain": [
       "<Figure size 640x480 with 1 Axes>"
      ]
     },
     "metadata": {},
     "output_type": "display_data"
    },
    {
     "data": {
      "image/png": "[encoded data removed]",
      "text/plain": [
       "<Figure size 640x480 with 1 Axes>"
      ]
     },
     "metadata": {},
     "output_type": "display_data"
    }
   ],
   "source": [
    "plot(training_error, testing_error, training_acc, testing_acc)\n"
   ]
  },
  {
   "attachments": {},
   "cell_type": "markdown",
   "metadata": {},
   "source": [
    "# 4B SVM"
   ]
  },
  {
   "cell_type": "code",
   "execution_count": null,
   "metadata": {
    "notebookRunGroups": {
     "groupValue": "2"
    }
   },
   "outputs": [],
   "source": [
    "# svmachine = SVC(kernel='rbf', C=1E6)\n",
    "# svmachine.fit(X_train, Y_train)\n",
    "# svmachine.score(X_train, Y_train)"
   ]
  },
  {
   "cell_type": "code",
   "execution_count": null,
   "metadata": {
    "notebookRunGroups": {
     "groupValue": "2"
    }
   },
   "outputs": [],
   "source": [
    "def polynomial_svm(X_train, Y_train, X_test, Y_test, max_degree=6):\n",
    "    \"\"\"Polynomial Support Vector Machine\n",
    "\n",
    "    Args:\n",
    "        X_train (np.array): Training data\n",
    "        Y_train (np.array): Training labels\n",
    "        X_test (np.array): Testing data\n",
    "        Y_test (np.array): Testing labels\n",
    "    \"\"\"\n",
    "    training_error, testing_error = [], []\n",
    "    training_acc, testing_acc = [], []\n",
    "\n",
    "    print(\"Polynomial SVM Score\")\n",
    "    print(\"Degree \\t Test Score \\t Train Score\")\n",
    "    for i in range(1, max_degree + 1):\n",
    "        svmachine = SVC(kernel=\"linear\")\n",
    "\n",
    "        # Init polynomial features\n",
    "        poly = PolynomialFeatures(degree=i)\n",
    "\n",
    "        # # Polynomial fit of training data\n",
    "        X_train_poly = poly.fit_transform(X_train)\n",
    "        X_test_poly = poly.fit_transform(X_test)\n",
    "\n",
    "        svmachine.fit(X_train_poly, Y_train)\n",
    "        # Get scores\n",
    "        training_score = svmachine.score(X_train_poly, Y_train)\n",
    "        testing_score = svmachine.score(X_test_poly, Y_test)\n",
    "\n",
    "        # Append accuracy\n",
    "        training_acc.append(training_score)\n",
    "        testing_acc.append(testing_score)\n",
    "\n",
    "        # Append errors\n",
    "        training_error.append(1 - training_score)\n",
    "        testing_error.append(1 - testing_score)\n",
    "\n",
    "        # Fancy print B)\n",
    "        print(f\"{i} \\t {testing_score*100.0:.2f}% \\t {training_score*100.0:.2f}%\")\n",
    "\n",
    "    return training_error, testing_error, training_acc, testing_acc\n"
   ]
  },
  {
   "cell_type": "code",
   "execution_count": null,
   "metadata": {
    "notebookRunGroups": {
     "groupValue": "2"
    }
   },
   "outputs": [],
   "source": [
    "training_error, testing_error, training_acc, testing_acc = polynomial_svm(\n",
    "    X_train, Y_train, X_test, Y_test, max_degree=5\n",
    ")\n"
   ]
  },
  {
   "cell_type": "code",
   "execution_count": null,
   "metadata": {
    "notebookRunGroups": {
     "groupValue": "2"
    }
   },
   "outputs": [],
   "source": [
    "plot(training_error, testing_error, training_acc, testing_acc)\n"
   ]
  },
  {
   "attachments": {},
   "cell_type": "markdown",
   "metadata": {},
   "source": [
    "# 4C Neural Network"
   ]
  },
  {
   "cell_type": "code",
   "execution_count": 11,
   "metadata": {
    "notebookRunGroups": {
     "groupValue": "1"
    }
   },
   "outputs": [
    {
     "name": "stdout",
     "output_type": "stream",
     "text": [
      "Epoch 1/100\n",
      "593/593 [==============================] - 1s 1ms/step - loss: 0.1676 - accuracy: 0.8560 - val_loss: 0.1546 - val_accuracy: 0.9173\n",
      "Epoch 2/100\n",
      "593/593 [==============================] - 1s 1ms/step - loss: 0.1586 - accuracy: 0.9139 - val_loss: 0.1484 - val_accuracy: 0.9173\n",
      "Epoch 3/100\n",
      "593/593 [==============================] - 1s 1ms/step - loss: 0.1570 - accuracy: 0.9139 - val_loss: 0.1536 - val_accuracy: 0.9173\n",
      "Epoch 4/100\n",
      "593/593 [==============================] - 1s 1ms/step - loss: 0.1559 - accuracy: 0.9139 - val_loss: 0.1499 - val_accuracy: 0.9173\n",
      "Epoch 5/100\n",
      "593/593 [==============================] - 1s 1ms/step - loss: 0.1556 - accuracy: 0.9139 - val_loss: 0.1489 - val_accuracy: 0.9173\n",
      "Epoch 6/100\n",
      "593/593 [==============================] - 1s 1ms/step - loss: 0.1546 - accuracy: 0.9139 - val_loss: 0.1500 - val_accuracy: 0.9173\n",
      "Epoch 7/100\n",
      "593/593 [==============================] - 1s 1ms/step - loss: 0.1548 - accuracy: 0.9139 - val_loss: 0.1520 - val_accuracy: 0.9173\n",
      "Epoch 8/100\n",
      "593/593 [==============================] - 1s 1ms/step - loss: 0.1548 - accuracy: 0.9139 - val_loss: 0.1493 - val_accuracy: 0.9173\n",
      "Epoch 9/100\n",
      "593/593 [==============================] - 1s 1ms/step - loss: 0.1543 - accuracy: 0.9082 - val_loss: 0.1515 - val_accuracy: 0.9173\n",
      "Epoch 10/100\n",
      "593/593 [==============================] - 1s 1ms/step - loss: 0.1542 - accuracy: 0.9139 - val_loss: 0.1454 - val_accuracy: 0.9173\n",
      "Epoch 11/100\n",
      "593/593 [==============================] - 1s 1ms/step - loss: 0.1536 - accuracy: 0.9139 - val_loss: 0.1521 - val_accuracy: 0.9173\n",
      "Epoch 12/100\n",
      "593/593 [==============================] - 1s 1ms/step - loss: 0.1536 - accuracy: 0.9124 - val_loss: 0.1515 - val_accuracy: 0.9173\n",
      "Epoch 13/100\n",
      "593/593 [==============================] - 1s 1ms/step - loss: 0.1530 - accuracy: 0.9139 - val_loss: 0.1566 - val_accuracy: 0.9173\n",
      "Epoch 14/100\n",
      "593/593 [==============================] - 1s 1ms/step - loss: 0.1531 - accuracy: 0.8988 - val_loss: 0.1448 - val_accuracy: 0.9173\n",
      "Epoch 15/100\n",
      "593/593 [==============================] - 1s 1ms/step - loss: 0.1529 - accuracy: 0.8918 - val_loss: 0.1450 - val_accuracy: 0.9173\n",
      "Epoch 16/100\n",
      "593/593 [==============================] - 1s 1ms/step - loss: 0.1528 - accuracy: 0.9050 - val_loss: 0.1441 - val_accuracy: 0.9173\n",
      "Epoch 17/100\n",
      "593/593 [==============================] - 1s 1ms/step - loss: 0.1526 - accuracy: 0.8908 - val_loss: 0.1429 - val_accuracy: 0.9173\n",
      "Epoch 18/100\n",
      "593/593 [==============================] - 1s 1ms/step - loss: 0.1517 - accuracy: 0.8830 - val_loss: 0.1488 - val_accuracy: 0.9173\n",
      "Epoch 19/100\n",
      "593/593 [==============================] - 1s 1ms/step - loss: 0.1518 - accuracy: 0.8902 - val_loss: 0.1476 - val_accuracy: 0.9173\n",
      "Epoch 20/100\n",
      "593/593 [==============================] - 1s 1ms/step - loss: 0.1519 - accuracy: 0.8787 - val_loss: 0.1444 - val_accuracy: 0.9173\n",
      "Epoch 21/100\n",
      "593/593 [==============================] - 1s 1ms/step - loss: 0.1510 - accuracy: 0.8699 - val_loss: 0.1464 - val_accuracy: 0.9173\n",
      "Epoch 22/100\n",
      "593/593 [==============================] - 1s 1ms/step - loss: 0.1513 - accuracy: 0.8515 - val_loss: 0.1435 - val_accuracy: 0.9173\n",
      "Epoch 23/100\n",
      "593/593 [==============================] - 1s 1ms/step - loss: 0.1521 - accuracy: 0.8424 - val_loss: 0.1464 - val_accuracy: 0.9173\n",
      "Epoch 24/100\n",
      "593/593 [==============================] - 1s 1ms/step - loss: 0.1511 - accuracy: 0.8430 - val_loss: 0.1431 - val_accuracy: 0.9173\n",
      "Epoch 25/100\n",
      "593/593 [==============================] - 1s 1ms/step - loss: 0.1511 - accuracy: 0.8207 - val_loss: 0.1427 - val_accuracy: 0.9173\n",
      "Epoch 26/100\n",
      "593/593 [==============================] - 1s 1ms/step - loss: 0.1506 - accuracy: 0.8200 - val_loss: 0.1563 - val_accuracy: 0.9173\n",
      "Epoch 27/100\n",
      "593/593 [==============================] - 1s 1ms/step - loss: 0.1500 - accuracy: 0.7844 - val_loss: 0.1421 - val_accuracy: 0.0428\n",
      "Epoch 28/100\n",
      "593/593 [==============================] - 1s 1ms/step - loss: 0.1510 - accuracy: 0.7697 - val_loss: 0.1445 - val_accuracy: 0.9173\n",
      "Epoch 29/100\n",
      "593/593 [==============================] - 1s 1ms/step - loss: 0.1501 - accuracy: 0.7566 - val_loss: 0.1420 - val_accuracy: 0.9173\n",
      "Epoch 30/100\n",
      "593/593 [==============================] - 1s 1ms/step - loss: 0.1503 - accuracy: 0.7748 - val_loss: 0.1407 - val_accuracy: 0.0399\n",
      "Epoch 31/100\n",
      "593/593 [==============================] - 1s 1ms/step - loss: 0.1498 - accuracy: 0.7282 - val_loss: 0.1472 - val_accuracy: 0.9173\n",
      "Epoch 32/100\n",
      "593/593 [==============================] - 1s 1ms/step - loss: 0.1507 - accuracy: 0.7154 - val_loss: 0.1410 - val_accuracy: 0.9173\n",
      "Epoch 33/100\n",
      "593/593 [==============================] - 1s 1ms/step - loss: 0.1498 - accuracy: 0.6742 - val_loss: 0.1434 - val_accuracy: 0.0399\n",
      "Epoch 34/100\n",
      "593/593 [==============================] - 1s 1ms/step - loss: 0.1494 - accuracy: 0.7063 - val_loss: 0.1437 - val_accuracy: 0.9173\n",
      "Epoch 35/100\n",
      "593/593 [==============================] - 1s 1ms/step - loss: 0.1493 - accuracy: 0.6621 - val_loss: 0.1448 - val_accuracy: 0.9173\n",
      "Epoch 36/100\n",
      "593/593 [==============================] - 1s 1ms/step - loss: 0.1500 - accuracy: 0.6528 - val_loss: 0.1455 - val_accuracy: 0.0428\n",
      "Epoch 37/100\n",
      "593/593 [==============================] - 1s 1ms/step - loss: 0.1490 - accuracy: 0.6414 - val_loss: 0.1420 - val_accuracy: 0.9173\n",
      "Epoch 38/100\n",
      "593/593 [==============================] - 1s 1ms/step - loss: 0.1494 - accuracy: 0.6680 - val_loss: 0.1433 - val_accuracy: 0.0428\n",
      "Epoch 39/100\n",
      "593/593 [==============================] - 1s 1ms/step - loss: 0.1497 - accuracy: 0.5960 - val_loss: 0.1408 - val_accuracy: 0.0428\n",
      "Epoch 40/100\n",
      "593/593 [==============================] - 1s 1ms/step - loss: 0.1485 - accuracy: 0.6224 - val_loss: 0.1427 - val_accuracy: 0.9173\n",
      "Epoch 41/100\n",
      "593/593 [==============================] - 1s 1ms/step - loss: 0.1499 - accuracy: 0.5942 - val_loss: 0.1404 - val_accuracy: 0.0428\n",
      "Epoch 42/100\n",
      "593/593 [==============================] - 1s 1ms/step - loss: 0.1494 - accuracy: 0.5871 - val_loss: 0.1422 - val_accuracy: 0.9173\n",
      "Epoch 43/100\n",
      "593/593 [==============================] - 1s 1ms/step - loss: 0.1496 - accuracy: 0.5819 - val_loss: 0.1424 - val_accuracy: 0.0399\n",
      "Epoch 44/100\n",
      "593/593 [==============================] - 1s 1ms/step - loss: 0.1499 - accuracy: 0.5366 - val_loss: 0.1428 - val_accuracy: 0.0399\n",
      "Epoch 45/100\n",
      "593/593 [==============================] - 1s 1ms/step - loss: 0.1503 - accuracy: 0.5651 - val_loss: 0.1412 - val_accuracy: 0.9173\n",
      "Epoch 46/100\n",
      "593/593 [==============================] - 1s 1ms/step - loss: 0.1488 - accuracy: 0.5417 - val_loss: 0.1452 - val_accuracy: 0.9173\n",
      "Epoch 47/100\n",
      "593/593 [==============================] - 1s 1ms/step - loss: 0.1486 - accuracy: 0.5097 - val_loss: 0.1435 - val_accuracy: 0.0399\n",
      "Epoch 48/100\n",
      "593/593 [==============================] - 1s 1ms/step - loss: 0.1499 - accuracy: 0.4953 - val_loss: 0.1422 - val_accuracy: 0.0428\n",
      "Epoch 49/100\n",
      "593/593 [==============================] - 1s 1ms/step - loss: 0.1489 - accuracy: 0.5082 - val_loss: 0.1419 - val_accuracy: 0.0428\n",
      "Epoch 50/100\n",
      "593/593 [==============================] - 1s 1ms/step - loss: 0.1483 - accuracy: 0.5201 - val_loss: 0.1403 - val_accuracy: 0.9173\n",
      "Epoch 51/100\n",
      "593/593 [==============================] - 1s 1ms/step - loss: 0.1493 - accuracy: 0.4778 - val_loss: 0.1445 - val_accuracy: 0.0399\n",
      "Epoch 52/100\n",
      "593/593 [==============================] - 1s 1ms/step - loss: 0.1488 - accuracy: 0.4949 - val_loss: 0.1485 - val_accuracy: 0.0428\n",
      "Epoch 53/100\n",
      "593/593 [==============================] - 1s 1ms/step - loss: 0.1485 - accuracy: 0.5072 - val_loss: 0.1420 - val_accuracy: 0.0399\n",
      "Epoch 54/100\n",
      "593/593 [==============================] - 1s 1ms/step - loss: 0.1481 - accuracy: 0.4865 - val_loss: 0.1403 - val_accuracy: 0.9173\n",
      "Epoch 55/100\n",
      "593/593 [==============================] - 1s 1ms/step - loss: 0.1483 - accuracy: 0.4504 - val_loss: 0.1437 - val_accuracy: 0.0428\n",
      "Epoch 56/100\n",
      "593/593 [==============================] - 1s 1ms/step - loss: 0.1475 - accuracy: 0.4421 - val_loss: 0.1409 - val_accuracy: 0.9173\n",
      "Epoch 57/100\n",
      "593/593 [==============================] - 1s 999us/step - loss: 0.1498 - accuracy: 0.4761 - val_loss: 0.1414 - val_accuracy: 0.0399\n",
      "Epoch 58/100\n",
      "593/593 [==============================] - 1s 1ms/step - loss: 0.1496 - accuracy: 0.4237 - val_loss: 0.1399 - val_accuracy: 0.0399\n",
      "Epoch 59/100\n",
      "593/593 [==============================] - 1s 1ms/step - loss: 0.1482 - accuracy: 0.4541 - val_loss: 0.1427 - val_accuracy: 0.9173\n",
      "Epoch 60/100\n",
      "593/593 [==============================] - 1s 1ms/step - loss: 0.1491 - accuracy: 0.4603 - val_loss: 0.1430 - val_accuracy: 0.9173\n",
      "Epoch 61/100\n",
      "593/593 [==============================] - 1s 1ms/step - loss: 0.1496 - accuracy: 0.4585 - val_loss: 0.1474 - val_accuracy: 0.9173\n",
      "Epoch 62/100\n",
      "593/593 [==============================] - 1s 1ms/step - loss: 0.1500 - accuracy: 0.4324 - val_loss: 0.1408 - val_accuracy: 0.9173\n",
      "Epoch 63/100\n",
      "593/593 [==============================] - 1s 1ms/step - loss: 0.1496 - accuracy: 0.4033 - val_loss: 0.1413 - val_accuracy: 0.0428\n",
      "Epoch 64/100\n",
      "593/593 [==============================] - 1s 1ms/step - loss: 0.1486 - accuracy: 0.4175 - val_loss: 0.1440 - val_accuracy: 0.9173\n",
      "Epoch 65/100\n",
      "593/593 [==============================] - 1s 1ms/step - loss: 0.1480 - accuracy: 0.4110 - val_loss: 0.1488 - val_accuracy: 0.9173\n",
      "Epoch 66/100\n",
      "593/593 [==============================] - 1s 1ms/step - loss: 0.1514 - accuracy: 0.4349 - val_loss: 0.1437 - val_accuracy: 0.9173\n",
      "Epoch 67/100\n",
      "593/593 [==============================] - 1s 1ms/step - loss: 0.1493 - accuracy: 0.4334 - val_loss: 0.1473 - val_accuracy: 0.9173\n",
      "Epoch 68/100\n",
      "593/593 [==============================] - 1s 1ms/step - loss: 0.1484 - accuracy: 0.4420 - val_loss: 0.1396 - val_accuracy: 0.9173\n",
      "Epoch 69/100\n",
      "593/593 [==============================] - 1s 1ms/step - loss: 0.1510 - accuracy: 0.3740 - val_loss: 0.1425 - val_accuracy: 0.9173\n",
      "Epoch 70/100\n",
      "593/593 [==============================] - 1s 1ms/step - loss: 0.1486 - accuracy: 0.4300 - val_loss: 0.1418 - val_accuracy: 0.0428\n",
      "Epoch 71/100\n",
      "593/593 [==============================] - 1s 1ms/step - loss: 0.1499 - accuracy: 0.3745 - val_loss: 0.1404 - val_accuracy: 0.9173\n",
      "Epoch 72/100\n",
      "593/593 [==============================] - 1s 1ms/step - loss: 0.1486 - accuracy: 0.4168 - val_loss: 0.1490 - val_accuracy: 0.9173\n",
      "Epoch 73/100\n",
      "593/593 [==============================] - 1s 1ms/step - loss: 0.1486 - accuracy: 0.3913 - val_loss: 0.1564 - val_accuracy: 0.9173\n",
      "Epoch 74/100\n",
      "593/593 [==============================] - 1s 1ms/step - loss: 0.1492 - accuracy: 0.3842 - val_loss: 0.1452 - val_accuracy: 0.0428\n",
      "Epoch 75/100\n",
      "593/593 [==============================] - 1s 1ms/step - loss: 0.1507 - accuracy: 0.3920 - val_loss: 0.1430 - val_accuracy: 0.0399\n",
      "Epoch 76/100\n",
      "593/593 [==============================] - 1s 1ms/step - loss: 0.1512 - accuracy: 0.3824 - val_loss: 0.1400 - val_accuracy: 0.9173\n",
      "Epoch 77/100\n",
      "593/593 [==============================] - 1s 1ms/step - loss: 0.1492 - accuracy: 0.3983 - val_loss: 0.1605 - val_accuracy: 0.9173\n",
      "Epoch 78/100\n",
      "593/593 [==============================] - 1s 1ms/step - loss: 0.1487 - accuracy: 0.4178 - val_loss: 0.1470 - val_accuracy: 0.0399\n",
      "Epoch 79/100\n",
      "593/593 [==============================] - 1s 1ms/step - loss: 0.1507 - accuracy: 0.4112 - val_loss: 0.1563 - val_accuracy: 0.9173\n",
      "Epoch 80/100\n",
      "593/593 [==============================] - 1s 1ms/step - loss: 0.1500 - accuracy: 0.4011 - val_loss: 0.1405 - val_accuracy: 0.9173\n",
      "Epoch 81/100\n",
      "593/593 [==============================] - 1s 1ms/step - loss: 0.1491 - accuracy: 0.4017 - val_loss: 0.1441 - val_accuracy: 0.9173\n",
      "Epoch 82/100\n",
      "593/593 [==============================] - 1s 1ms/step - loss: 0.1509 - accuracy: 0.3753 - val_loss: 0.1407 - val_accuracy: 0.9173\n",
      "Epoch 83/100\n",
      "593/593 [==============================] - 1s 1ms/step - loss: 0.1483 - accuracy: 0.3753 - val_loss: 0.1450 - val_accuracy: 0.9173\n",
      "Epoch 84/100\n",
      "593/593 [==============================] - 1s 1ms/step - loss: 0.1483 - accuracy: 0.3624 - val_loss: 0.1594 - val_accuracy: 0.9173\n",
      "Epoch 85/100\n",
      "593/593 [==============================] - 1s 1ms/step - loss: 0.1513 - accuracy: 0.3579 - val_loss: 0.1419 - val_accuracy: 0.0399\n",
      "Epoch 86/100\n",
      "593/593 [==============================] - 1s 1ms/step - loss: 0.1510 - accuracy: 0.3730 - val_loss: 0.1405 - val_accuracy: 0.0428\n",
      "Epoch 87/100\n",
      "593/593 [==============================] - 1s 1ms/step - loss: 0.1489 - accuracy: 0.3736 - val_loss: 0.1490 - val_accuracy: 0.9173\n",
      "Epoch 88/100\n",
      "593/593 [==============================] - 1s 1ms/step - loss: 0.1499 - accuracy: 0.3728 - val_loss: 0.1509 - val_accuracy: 0.0428\n",
      "Epoch 89/100\n",
      "593/593 [==============================] - 1s 1ms/step - loss: 0.1507 - accuracy: 0.3723 - val_loss: 0.1420 - val_accuracy: 0.0428\n",
      "Epoch 90/100\n",
      "593/593 [==============================] - 1s 1ms/step - loss: 0.1505 - accuracy: 0.3442 - val_loss: 0.1388 - val_accuracy: 0.9173\n",
      "Epoch 91/100\n",
      "593/593 [==============================] - 1s 1ms/step - loss: 0.1500 - accuracy: 0.3667 - val_loss: 0.1440 - val_accuracy: 0.0428\n",
      "Epoch 92/100\n",
      "593/593 [==============================] - 1s 1ms/step - loss: 0.1492 - accuracy: 0.3979 - val_loss: 0.1491 - val_accuracy: 0.9173\n",
      "Epoch 93/100\n",
      "593/593 [==============================] - 1s 1ms/step - loss: 0.1498 - accuracy: 0.3666 - val_loss: 0.1384 - val_accuracy: 0.0428\n",
      "Epoch 94/100\n",
      "593/593 [==============================] - 1s 1ms/step - loss: 0.1491 - accuracy: 0.3923 - val_loss: 0.1469 - val_accuracy: 0.9173\n",
      "Epoch 95/100\n",
      "593/593 [==============================] - 1s 1ms/step - loss: 0.1483 - accuracy: 0.3577 - val_loss: 0.1621 - val_accuracy: 0.0428\n",
      "Epoch 96/100\n",
      "593/593 [==============================] - 1s 1ms/step - loss: 0.1524 - accuracy: 0.3849 - val_loss: 0.1419 - val_accuracy: 0.0399\n",
      "Epoch 97/100\n",
      "593/593 [==============================] - 1s 1ms/step - loss: 0.1514 - accuracy: 0.3485 - val_loss: 0.1486 - val_accuracy: 0.0428\n",
      "Epoch 98/100\n",
      "593/593 [==============================] - 1s 1ms/step - loss: 0.1511 - accuracy: 0.3756 - val_loss: 0.1427 - val_accuracy: 0.0428\n",
      "Epoch 99/100\n",
      "593/593 [==============================] - 1s 1ms/step - loss: 0.1535 - accuracy: 0.3560 - val_loss: 0.1382 - val_accuracy: 0.0399\n",
      "Epoch 100/100\n",
      "593/593 [==============================] - 1s 1ms/step - loss: 0.1518 - accuracy: 0.3693 - val_loss: 0.1396 - val_accuracy: 0.0399\n",
      "149/149 [==============================] - 0s 743us/step - loss: 0.1396 - accuracy: 0.0399\n",
      "Test loss: 13.96% \t Test accuracy: 3.99%\n"
     ]
    }
   ],
   "source": [
    "# Define the model architecture\n",
    "model = Sequential(\n",
    "    [\n",
    "        Dense(32, activation=\"tanh\", input_shape=(3,)),\n",
    "        Dense(16, activation=\"elu\"),\n",
    "        Dense(4, activation=\"softmax\"),\n",
    "    ]\n",
    ")\n",
    "\n",
    "# Compile the model with an optimizer, loss function, and metrics\n",
    "model.compile(optimizer=\"adam\", loss=\"categorical_crossentropy\", metrics=[\"accuracy\"])\n",
    "\n",
    "Y_train_one_hot = tf.one_hot(Y_train - 1, depth=4)\n",
    "Y_test_one_hot = tf.one_hot(Y_test - 1, depth=4)\n",
    "\n",
    "# Train the model on the training data\n",
    "model.fit(\n",
    "    X_train,\n",
    "    Y_train_one_hot,\n",
    "    epochs=100,\n",
    "    batch_size=32,\n",
    "    validation_data=(X_test, Y_test_one_hot),\n",
    ")\n",
    "\n",
    "# Evaluate the model on the test data\n",
    "loss, accuracy = model.evaluate(X_test, Y_test_one_hot)\n",
    "print(f\"Test loss: {loss*100:.2f}% \\t Test accuracy: {accuracy*100:.2f}%\")"
   ]
  }
 ],
 "metadata": {
  "kernelspec": {
   "display_name": "venv",
   "language": "python",
   "name": "python3"
  },
  "language_info": {
   "codemirror_mode": {
    "name": "ipython",
    "version": 3
   },
   "file_extension": ".py",
   "mimetype": "text/x-python",
   "name": "python",
   "nbconvert_exporter": "python",
   "pygments_lexer": "ipython3",
   "version": "3.11.0"
  },
  "orig_nbformat": 4
 },
 "nbformat": 4,
 "nbformat_minor": 2
}

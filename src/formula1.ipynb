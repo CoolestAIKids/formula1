{
 "cells": [
  {
   "attachments": {},
   "cell_type": "markdown",
   "metadata": {},
   "source": [
    "Formula 1"
   ]
  },
  {
   "cell_type": "code",
   "execution_count": 1,
   "metadata": {},
   "outputs": [],
   "source": [
    "import numpy as np\n",
    "import pandas as pd\n",
    "from sklearn.preprocessing import StandardScaler\n",
    "from sklearn.model_selection import train_test_split\n",
    "from sklearn.linear_model import LinearRegression\n",
    "import matplotlib.pyplot as plt\n"
   ]
  },
  {
   "attachments": {},
   "cell_type": "markdown",
   "metadata": {},
   "source": [
    "# 1 Gather Data\n",
    "We want to..."
   ]
  },
  {
   "cell_type": "code",
   "execution_count": 49,
   "metadata": {},
   "outputs": [
    {
     "name": "stderr",
     "output_type": "stream",
     "text": [
      "/var/folders/5x/mccc1ybs12ng6r2m2lcksrtm0000gn/T/ipykernel_1515/3268364427.py:49: SettingWithCopyWarning: \n",
      "A value is trying to be set on a copy of a slice from a DataFrame\n",
      "\n",
      "See the caveats in the documentation: https://pandas.pydata.org/pandas-docs/stable/user_guide/indexing.html#returning-a-view-versus-a-copy\n",
      "  train_data.drop(columns=[\"year\"], inplace=True)\n",
      "/var/folders/5x/mccc1ybs12ng6r2m2lcksrtm0000gn/T/ipykernel_1515/3268364427.py:50: SettingWithCopyWarning: \n",
      "A value is trying to be set on a copy of a slice from a DataFrame\n",
      "\n",
      "See the caveats in the documentation: https://pandas.pydata.org/pandas-docs/stable/user_guide/indexing.html#returning-a-view-versus-a-copy\n",
      "  test_data.drop(columns=[\"year\"], inplace=True)\n"
     ]
    }
   ],
   "source": [
    "data_dir_path = \"../data/\"\n",
    "# Read the csv files\n",
    "results = pd.read_csv(data_dir_path + \"results.csv\", na_values=np.nan)\n",
    "driver_standings = pd.read_csv(data_dir_path + \"driver_standings.csv\", na_values=np.nan)\n",
    "constructor_standings = pd.read_csv(\n",
    "    data_dir_path + \"constructor_standings.csv\", na_values=np.nan\n",
    ")\n",
    "raceYears = pd.read_csv(data_dir_path + \"races.csv\", na_values=np.nan)\n",
    "names = pd.read_csv(data_dir_path + \"drivers.csv\", na_values=np.nan)\n",
    "\n",
    "# Filter columns\n",
    "raceYears = raceYears[[\"raceId\", \"year\"]]\n",
    "raceYears = raceYears[raceYears[\"year\"] >= 2010]  # Only data after 2010\n",
    "results = results[[\"raceId\", \"driverId\", \"constructorId\", \"grid\", \"position\"]]\n",
    "driver_standings = driver_standings[[\"raceId\", \"driverId\", \"position\"]]\n",
    "constructor_standings = constructor_standings[[\"raceId\", \"constructorId\", \"position\"]]\n",
    "names = names[[\"driverId\", \"driverRef\"]]\n",
    "\n",
    "# rename because other csv also have position\n",
    "driver_standings = driver_standings.rename(columns={\"position\": \"driverStanding\"})\n",
    "constructor_standings = constructor_standings.rename(\n",
    "    columns={\"position\": \"constructorStanding\"}\n",
    ")\n",
    "\n",
    "year_driver_standing = pd.merge(raceYears, driver_standings, on=[\"raceId\"], how=\"inner\")\n",
    "\n",
    "results_driver_standings = pd.merge(\n",
    "    results, year_driver_standing, on=[\"raceId\", \"driverId\"], how=\"inner\"\n",
    ")\n",
    "\n",
    "joined_data = pd.merge(\n",
    "    results_driver_standings,\n",
    "    constructor_standings,\n",
    "    on=[\"raceId\", \"constructorId\"],\n",
    "    how=\"inner\",\n",
    ")\n",
    "\n",
    "joined_data = pd.merge(joined_data, names, on=[\"driverId\"], how=\"inner\")\n",
    "joined_data.drop(columns=[\"raceId\", \"constructorId\", \"driverId\"], inplace=True)\n",
    "joined_data.replace(to_replace=\"\\\\N\", value=20, inplace=True)\n",
    "joined_data[\"position\"] = joined_data[\"position\"].astype(int)\n",
    "\n",
    "\n",
    "# Divide by train data and test data\n",
    "train_data = joined_data[joined_data[\"year\"] <= 2019]\n",
    "test_data = joined_data[joined_data[\"year\"] > 2019]\n",
    "\n",
    "# Drop year before calculating the mean for every driver\n",
    "train_data.drop(columns=[\"year\"], inplace=True)\n",
    "test_data.drop(columns=[\"year\"], inplace=True)\n",
    "\n",
    "# Calculate mean values for every driver\n",
    "# train_data = train_data.groupby([\"driverRef\"]).mean()\n",
    "# test_data = test_data.groupby([\"driverRef\"]).mean()\n",
    "\n",
    "X_train = train_data[[\"grid\", \"driverStanding\", \"constructorStanding\"]]\n",
    "Y_train = train_data[[\"position\"]]\n"
   ]
  },
  {
   "attachments": {},
   "cell_type": "markdown",
   "metadata": {},
   "source": [
    "2 Standardise and Scale"
   ]
  },
  {
   "cell_type": "code",
   "execution_count": null,
   "metadata": {},
   "outputs": [],
   "source": [
    "scaler = StandardScaler()\n"
   ]
  }
 ],
 "metadata": {
  "kernelspec": {
   "display_name": "venv",
   "language": "python",
   "name": "python3"
  },
  "language_info": {
   "codemirror_mode": {
    "name": "ipython",
    "version": 3
   },
   "file_extension": ".py",
   "mimetype": "text/x-python",
   "name": "python",
   "nbconvert_exporter": "python",
   "pygments_lexer": "ipython3",
   "version": "3.11.2"
  },
  "orig_nbformat": 4
 },
 "nbformat": 4,
 "nbformat_minor": 2
}

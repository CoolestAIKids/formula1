{
 "cells": [
  {
   "attachments": {},
   "cell_type": "markdown",
   "metadata": {},
   "source": [
    "Formula 1"
   ]
  },
  {
   "cell_type": "code",
   "execution_count": 251,
   "metadata": {},
   "outputs": [],
   "source": [
    "import numpy as np\n",
    "import pandas as pd\n",
    "from sklearn.preprocessing import StandardScaler\n",
    "from sklearn.linear_model import LogisticRegression\n",
    "from sklearn.preprocessing import PolynomialFeatures\n",
    "import matplotlib.pyplot as plt"
   ]
  },
  {
   "attachments": {},
   "cell_type": "markdown",
   "metadata": {},
   "source": [
    "# 1 Gather Data\n",
    "We want to..."
   ]
  },
  {
   "cell_type": "code",
   "execution_count": 252,
   "metadata": {},
   "outputs": [],
   "source": [
    "data_dir_path = \"../data/\"\n",
    "# Read the csv files\n",
    "results = pd.read_csv(data_dir_path + \"results.csv\", na_values=np.nan)\n",
    "driver_standings = pd.read_csv(data_dir_path + \"driver_standings.csv\", na_values=np.nan)\n",
    "constructor_standings = pd.read_csv(\n",
    "    data_dir_path + \"constructor_standings.csv\", na_values=np.nan\n",
    ")\n",
    "raceYears = pd.read_csv(data_dir_path + \"races.csv\", na_values=np.nan)\n",
    "names = pd.read_csv(data_dir_path + \"drivers.csv\", na_values=np.nan)\n",
    "\n",
    "# Filter columns\n",
    "raceYears = raceYears[[\"raceId\", \"year\"]]\n",
    "# raceYears = raceYears[raceYears[\"year\"] >= 2010]  # Only data after 2010\n",
    "results = results[[\"raceId\", \"driverId\", \"constructorId\", \"grid\", \"position\"]]\n",
    "driver_standings = driver_standings[[\"raceId\", \"driverId\", \"position\"]]\n",
    "constructor_standings = constructor_standings[[\"raceId\", \"constructorId\", \"position\"]]\n",
    "names = names[[\"driverId\", \"driverRef\"]]\n",
    "\n",
    "# rename because other csv also have position\n",
    "driver_standings = driver_standings.rename(columns={\"position\": \"driverStanding\"})\n",
    "constructor_standings = constructor_standings.rename(\n",
    "    columns={\"position\": \"constructorStanding\"}\n",
    ")\n",
    "\n",
    "year_driver_standing = pd.merge(raceYears, driver_standings, on=[\"raceId\"], how=\"inner\")\n",
    "\n",
    "results_driver_standings = pd.merge(\n",
    "    results, year_driver_standing, on=[\"raceId\", \"driverId\"], how=\"inner\"\n",
    ")\n",
    "\n",
    "joined_data = pd.merge(\n",
    "    results_driver_standings,\n",
    "    constructor_standings,\n",
    "    on=[\"raceId\", \"constructorId\"],\n",
    "    how=\"inner\",\n",
    ")\n",
    "\n",
    "joined_data = pd.merge(joined_data, names, on=[\"driverId\"], how=\"inner\")\n",
    "joined_data.drop(columns=[\"raceId\", \"constructorId\", \"driverId\"], inplace=True)\n",
    "joined_data.replace(to_replace=\"\\\\N\", value=20, inplace=True)\n",
    "joined_data[\"position\"] = joined_data[\"position\"].astype(int)\n",
    "\n",
    "\n",
    "# Divide by train data and test data\n",
    "train_data = joined_data.loc[joined_data[\"year\"] <= 2000]\n",
    "test_data = joined_data.loc[joined_data[\"year\"] > 2000]\n",
    "\n",
    "# Drop year before calculating the mean for every driver\n",
    "train_data.drop(\"year\", axis=1)\n",
    "test_data.drop(\"year\", axis=1)\n",
    "\n",
    "# Calculate mean values for every driver\n",
    "# train_data = train_data.groupby([\"driverRef\"]).mean()\n",
    "# test_data = test_data.groupby([\"driverRef\"]).mean()\n",
    "\n",
    "X_train = train_data[[\"grid\", \"driverStanding\", \"constructorStanding\"]]\n",
    "Y_train = train_data[[\"position\"]]\n",
    "\n",
    "X_test = train_data[[\"grid\", \"driverStanding\", \"constructorStanding\"]]\n",
    "Y_test = train_data[[\"position\"]]"
   ]
  },
  {
   "cell_type": "code",
   "execution_count": 253,
   "metadata": {},
   "outputs": [],
   "source": [
    "def edit_Y(y, regression=True):\n",
    "    \"\"\"Edits Y to be 1 or not 1 for regression or not regression.\n",
    "\n",
    "    Notes:\n",
    "        Pandas DF is passed by reference, so no returns.\n",
    "\n",
    "    Args:\n",
    "        y (pd.DataFrame): Dataframe with column position\n",
    "        regression (bool, optional): True if regression, false for others.\n",
    "    \"\"\"\n",
    "    y.loc[(y[\"position\"] != 1) & (y[\"position\"] != 2) & (y[\"position\"] != 3)] = (\n",
    "        0 if regression else -1\n",
    "    )"
   ]
  },
  {
   "cell_type": "code",
   "execution_count": 254,
   "metadata": {},
   "outputs": [
    {
     "name": "stderr",
     "output_type": "stream",
     "text": [
      "/var/folders/lp/5zshsvbx70v_fwm1wkjj8cww0000gn/T/ipykernel_9311/949196391.py:11: SettingWithCopyWarning: \n",
      "A value is trying to be set on a copy of a slice from a DataFrame\n",
      "\n",
      "See the caveats in the documentation: https://pandas.pydata.org/pandas-docs/stable/user_guide/indexing.html#returning-a-view-versus-a-copy\n",
      "  y.loc[(y[\"position\"] != 1) & (y[\"position\"] != 2) & (y[\"position\"] != 3)] = (\n"
     ]
    }
   ],
   "source": [
    "X_train = X_train.to_numpy()\n",
    "X_test = X_test.to_numpy()\n",
    "\n",
    "edit_Y(Y_train, regression=True)\n",
    "edit_Y(Y_test, regression=True)\n",
    "\n",
    "Y_train = Y_train.to_numpy()\n",
    "Y_test = Y_test.to_numpy()\n",
    "\n",
    "Y_train = Y_train.reshape(Y_train.shape[0])\n",
    "Y_test = Y_test.reshape(Y_test.shape[0])"
   ]
  },
  {
   "attachments": {},
   "cell_type": "markdown",
   "metadata": {},
   "source": [
    "# 2 Standardise and Scale"
   ]
  },
  {
   "cell_type": "code",
   "execution_count": 255,
   "metadata": {},
   "outputs": [],
   "source": [
    "scaler = StandardScaler()\n",
    "\n",
    "X_train = scaler.fit_transform(X_train)\n",
    "X_test = scaler.transform(X_test)"
   ]
  },
  {
   "attachments": {},
   "cell_type": "markdown",
   "metadata": {},
   "source": [
    "# 3 Regression"
   ]
  },
  {
   "cell_type": "code",
   "execution_count": 256,
   "metadata": {},
   "outputs": [],
   "source": [
    "def polynomial_logistic_regression(X_train, Y_train, X_test, Y_test, max_degree=6):\n",
    "    \"\"\"Polynomial logistic regression\n",
    "\n",
    "    Args:\n",
    "        X_train (np.array): Training data\n",
    "        Y_train (np.array): Training labels\n",
    "        X_test (np.array): Testing data\n",
    "        Y_test (np.array): Testing labels\n",
    "    \"\"\"\n",
    "    logreg = LogisticRegression(multi_class=\"multinomial\", max_iter=10_000)\n",
    "    training_error, testing_error = [], []\n",
    "\n",
    "    print(\"Polynomial Logistic Regression Score\")\n",
    "    print(\"Degree \\t Test Score \\t Train Score\")\n",
    "    for i in range(1, max_degree + 1):\n",
    "        # Init polynomial features\n",
    "        poly = PolynomialFeatures(degree=i)\n",
    "\n",
    "        # Polynomial fit of training data\n",
    "        X_train_poly = poly.fit_transform(X_train)\n",
    "\n",
    "        # Train model\n",
    "        logreg.fit(X_train_poly, Y_train)\n",
    "\n",
    "        # Polynomial fit of test data\n",
    "        X_test_poly = poly.fit_transform(X_test)\n",
    "\n",
    "        # Get scores\n",
    "        training_score = logreg.score(X_train_poly, Y_train)\n",
    "        testing_score = logreg.score(X_test_poly, Y_test)\n",
    "\n",
    "        # Append errors\n",
    "        training_error.append(1 - training_score * 100)\n",
    "        testing_error.append(1 - testing_score * 100)\n",
    "\n",
    "        # Fancy print B)\n",
    "        print(f\"{i} \\t {testing_score*100.0:.2f}% \\t {training_score*100.0:.2f}%\")"
   ]
  },
  {
   "cell_type": "code",
   "execution_count": 257,
   "metadata": {},
   "outputs": [
    {
     "name": "stdout",
     "output_type": "stream",
     "text": [
      "Polynomial Logistic Regression Score\n",
      "Degree \t Test Score \t Train Score\n",
      "1 \t 88.95% \t 88.95%\n",
      "2 \t 88.97% \t 88.97%\n",
      "3 \t 88.98% \t 88.98%\n",
      "4 \t 88.99% \t 88.99%\n",
      "5 \t 89.03% \t 89.03%\n",
      "6 \t 89.00% \t 89.00%\n",
      "7 \t 88.97% \t 88.97%\n",
      "8 \t 89.01% \t 89.01%\n",
      "9 \t 89.05% \t 89.05%\n",
      "10 \t 89.07% \t 89.07%\n",
      "11 \t 89.05% \t 89.05%\n"
     ]
    }
   ],
   "source": [
    "polynomial_logistic_regression(X_train, Y_train, X_test, Y_test, max_degree=11)"
   ]
  }
 ],
 "metadata": {
  "kernelspec": {
   "display_name": "venv",
   "language": "python",
   "name": "python3"
  },
  "language_info": {
   "codemirror_mode": {
    "name": "ipython",
    "version": 3
   },
   "file_extension": ".py",
   "mimetype": "text/x-python",
   "name": "python",
   "nbconvert_exporter": "python",
   "pygments_lexer": "ipython3",
   "version": "3.11.0"
  },
  "orig_nbformat": 4
 },
 "nbformat": 4,
 "nbformat_minor": 2
}

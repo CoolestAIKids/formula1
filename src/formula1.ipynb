{
 "cells": [
  {
   "attachments": {},
   "cell_type": "markdown",
   "metadata": {},
   "source": [
    "Formula 1"
   ]
  },
  {
   "cell_type": "code",
   "execution_count": 215,
   "metadata": {
    "notebookRunGroups": {
     "groupValue": "12"
    }
   },
   "outputs": [],
   "source": [
    "import numpy as np\n",
    "import pandas as pd\n",
    "from sklearn.preprocessing import StandardScaler\n",
    "from sklearn.model_selection import train_test_split\n",
    "from sklearn.linear_model import LogisticRegression\n",
    "from sklearn.svm import SVC\n",
    "from sklearn.preprocessing import PolynomialFeatures\n",
    "import matplotlib.pyplot as plt\n",
    "import tensorflow as tf\n",
    "from tensorflow.keras.models import Sequential\n",
    "from tensorflow.keras.layers import Dense\n"
   ]
  },
  {
   "cell_type": "code",
   "execution_count": 216,
   "metadata": {
    "notebookRunGroups": {
     "groupValue": "1"
    }
   },
   "outputs": [],
   "source": [
    "# Config for regression\n",
    "regress = True"
   ]
  },
  {
   "cell_type": "code",
   "execution_count": null,
   "metadata": {
    "notebookRunGroups": {
     "groupValue": "2"
    }
   },
   "outputs": [],
   "source": [
    "# Config for Other\n",
    "regress = False"
   ]
  },
  {
   "attachments": {},
   "cell_type": "markdown",
   "metadata": {},
   "source": [
    "# 1 Gather Data\n",
    "We want to..."
   ]
  },
  {
   "cell_type": "code",
   "execution_count": 217,
   "metadata": {
    "notebookRunGroups": {
     "groupValue": "12"
    }
   },
   "outputs": [],
   "source": [
    "data_dir_path = \"../data/\"\n",
    "# Read the csv files\n",
    "results = pd.read_csv(data_dir_path + \"results.csv\", na_values=np.nan)\n",
    "driver_standings = pd.read_csv(data_dir_path + \"driver_standings.csv\", na_values=np.nan)\n",
    "constructor_standings = pd.read_csv(\n",
    "    data_dir_path + \"constructor_standings.csv\", na_values=np.nan\n",
    ")\n",
    "raceYears = pd.read_csv(data_dir_path + \"races.csv\", na_values=np.nan)\n",
    "names = pd.read_csv(data_dir_path + \"drivers.csv\", na_values=np.nan)\n",
    "circuits = pd.read_csv(data_dir_path + \"circuits.csv\", na_values=np.nan)\n",
    "\n",
    "# Filter columns\n",
    "raceYears = raceYears[[\"raceId\", \"year\", \"circuitId\"]]\n",
    "raceYears = raceYears[raceYears[\"year\"] >= 2014]  # Only data after 2010\n",
    "results = results[[\"raceId\", \"driverId\", \"constructorId\", \"grid\", \"position\"]]\n",
    "driver_standings = driver_standings[\n",
    "    [\"raceId\", \"driverId\", \"position\", \"wins\", \"points\"]\n",
    "]\n",
    "constructor_standings = constructor_standings[\n",
    "    [\"raceId\", \"constructorId\", \"position\", \"wins\", \"points\"]\n",
    "]\n",
    "names = names[[\"driverId\", \"driverRef\"]]\n",
    "circuits = circuits[[\"circuitId\", \"lat\", \"lng\", \"alt\"]]\n",
    "\n",
    "# rename because other csv also have position\n",
    "driver_standings = driver_standings.rename(columns={\"position\": \"driverStanding\"})\n",
    "constructor_standings = constructor_standings.rename(\n",
    "    columns={\n",
    "        \"position\": \"constructorStanding\",\n",
    "        \"wins\": \"constructorWins\",\n",
    "        \"points\": \"constructorPoints\",\n",
    "    }\n",
    ")\n",
    "\n",
    "\n",
    "race_circuit = pd.merge(raceYears, circuits, on=[\"circuitId\"], how=\"inner\")\n",
    "\n",
    "year_driver_standing = pd.merge(\n",
    "    race_circuit, driver_standings, on=[\"raceId\"], how=\"inner\"\n",
    ")\n",
    "\n",
    "results_driver_standings = pd.merge(\n",
    "    results, year_driver_standing, on=[\"raceId\", \"driverId\"], how=\"inner\"\n",
    ")\n",
    "\n",
    "joined_data = pd.merge(\n",
    "    results_driver_standings,\n",
    "    constructor_standings,\n",
    "    on=[\"raceId\", \"constructorId\"],\n",
    "    how=\"inner\",\n",
    ")\n",
    "\n",
    "joined_data = pd.merge(joined_data, names, on=[\"driverId\"], how=\"inner\")\n",
    "joined_data.drop(\n",
    "    columns=[\"raceId\", \"constructorId\", \"driverId\", \"circuitId\"], inplace=True\n",
    ")\n",
    "joined_data.replace(to_replace=\"\\\\N\", value=20, inplace=True)\n",
    "joined_data[\"position\"] = joined_data[\"position\"].astype(int)\n",
    "\n",
    "# Drop year before calculating the mean for every driver\n",
    "joined_data.drop(\"year\", axis=1, inplace=True)\n",
    "\n",
    "# joined_data = joined_data[joined_data[\"position\"] <= 5]\n",
    "\n",
    "X = joined_data[\n",
    "    [\n",
    "        \"grid\",\n",
    "        \"driverStanding\",\n",
    "        \"constructorStanding\",\n",
    "        \"wins\",\n",
    "        \"points\",\n",
    "        \"lat\",\n",
    "        \"lng\",\n",
    "        \"alt\",\n",
    "        \"constructorPoints\",\n",
    "        \"constructorWins\",\n",
    "    ]\n",
    "]\n",
    "Y = joined_data[[\"position\"]]\n",
    "\n",
    "\n",
    "# Divide by train data and test data\n",
    "X_train, X_test, Y_train, Y_test = train_test_split(\n",
    "    X, Y, test_size=0.2, random_state=42, shuffle=True\n",
    ")"
   ]
  },
  {
   "cell_type": "code",
   "execution_count": 218,
   "metadata": {
    "notebookRunGroups": {
     "groupValue": "12"
    }
   },
   "outputs": [],
   "source": [
    "def edit_Y(y, regression=True):\n",
    "    \"\"\"Edits Y to be 1 or not 1 for regression or not regression.\n",
    "\n",
    "    Notes:\n",
    "        Pandas DF is passed by reference, so no returns.\n",
    "\n",
    "    Args:\n",
    "        y (pd.DataFrame): Dataframe with column position\n",
    "        regression (bool, optional): True if regression, false for others.\n",
    "    \"\"\"\n",
    "    y.loc[(y[\"position\"] != 1) & (y[\"position\"] != 2) & (y[\"position\"] != 3)] = (\n",
    "        0 if regression else -1\n",
    "    )\n",
    "    # y.loc[(y[\"position\"] == 2) | (y[\"position\"] == 3)] = 1"
   ]
  },
  {
   "attachments": {},
   "cell_type": "markdown",
   "metadata": {},
   "source": [
    "# 2 Standardise and Scale"
   ]
  },
  {
   "cell_type": "code",
   "execution_count": 219,
   "metadata": {
    "notebookRunGroups": {
     "groupValue": "12"
    }
   },
   "outputs": [],
   "source": [
    "X_train = X_train.to_numpy()\n",
    "X_test = X_test.to_numpy()\n",
    "\n",
    "edit_Y(Y_train, regression=regress)\n",
    "edit_Y(Y_test, regression=regress)\n",
    "\n",
    "Y_train = Y_train.to_numpy()\n",
    "Y_test = Y_test.to_numpy()\n",
    "\n",
    "Y_train = Y_train.reshape(Y_train.shape[0])\n",
    "Y_test = Y_test.reshape(Y_test.shape[0])\n"
   ]
  },
  {
   "cell_type": "code",
   "execution_count": 220,
   "metadata": {
    "notebookRunGroups": {
     "groupValue": "12"
    }
   },
   "outputs": [],
   "source": [
    "scaler = StandardScaler()\n",
    "\n",
    "X_train = scaler.fit_transform(X_train)\n",
    "X_test = scaler.transform(X_test)"
   ]
  },
  {
   "attachments": {},
   "cell_type": "markdown",
   "metadata": {},
   "source": [
    "# 3 Plotting Functions"
   ]
  },
  {
   "cell_type": "code",
   "execution_count": 221,
   "metadata": {
    "notebookRunGroups": {
     "groupValue": "12"
    }
   },
   "outputs": [],
   "source": [
    "def plot_error(training_error, testing_error):\n",
    "    \"\"\"Plots the training and testing error.\n",
    "\n",
    "    Args:\n",
    "        training_error (list): List of training errors\n",
    "        testing_error (list): List of testing errors\n",
    "    \"\"\"\n",
    "    plt.plot(training_error, label=\"Training Error\")\n",
    "    plt.plot(testing_error, label=\"Testing Error\")\n",
    "    plt.xticks(np.arange(len(testing_error)), np.arange(1, len(testing_error) + 1))\n",
    "    plt.xlabel(\"Degree\")\n",
    "    plt.ylabel(\"Error\")\n",
    "    plt.legend()\n",
    "    plt.show()\n",
    "\n",
    "\n",
    "def plot_accuracy(training_acc, testing_acc):\n",
    "    \"\"\"Plots the training and testing error.\n",
    "\n",
    "    Args:\n",
    "        training_error (list): List of training errors\n",
    "        testing_error (list): List of testing errors\n",
    "    \"\"\"\n",
    "    plt.plot(training_acc, label=\"Training Accuracy\")\n",
    "    plt.plot(testing_acc, label=\"Testing Accuracy\")\n",
    "    plt.xticks(np.arange(len(testing_acc)), np.arange(1, len(testing_acc) + 1))\n",
    "    plt.xlabel(\"Degree\")\n",
    "    plt.ylabel(\"Accuracy\")\n",
    "    plt.legend()\n",
    "    plt.show()\n",
    "\n",
    "\n",
    "def plot(training_error, testing_error, training_acc, testing_acc):\n",
    "    plot_error(training_error, testing_error)\n",
    "    plot_accuracy(training_acc, testing_acc)\n"
   ]
  },
  {
   "attachments": {},
   "cell_type": "markdown",
   "metadata": {},
   "source": [
    "# 4A Logistic Regression"
   ]
  },
  {
   "cell_type": "code",
   "execution_count": 222,
   "metadata": {
    "notebookRunGroups": {
     "groupValue": "1"
    }
   },
   "outputs": [],
   "source": [
    "def polynomial_logistic_regression(X_train, Y_train, X_test, Y_test, max_degree=6):\n",
    "    \"\"\"Polynomial logistic regression\n",
    "\n",
    "    Args:\n",
    "        X_train (np.array): Training data\n",
    "        Y_train (np.array): Training labels\n",
    "        X_test (np.array): Testing data\n",
    "        Y_test (np.array): Testing labels\n",
    "    \"\"\"\n",
    "    _lambda = 0.01\n",
    "    logreg = LogisticRegression(\n",
    "        multi_class=\"multinomial\", max_iter=25_000, penalty=\"l2\", C=1 / _lambda\n",
    "    )\n",
    "    training_error, testing_error = [], []\n",
    "    training_acc, testing_acc = [], []\n",
    "\n",
    "    print(\"Polynomial Logistic Regression Score\")\n",
    "    print(\"Degree \\t Test Score \\t Train Score\")\n",
    "    for i in range(1, max_degree + 1):\n",
    "        # Init polynomial features\n",
    "        poly = PolynomialFeatures(degree=i)\n",
    "\n",
    "        # Polynomial fit of training data\n",
    "        X_train_poly = poly.fit_transform(X_train)\n",
    "\n",
    "        # Train model\n",
    "        logreg.fit(X_train_poly, Y_train)\n",
    "\n",
    "        # Polynomial fit of test data\n",
    "        X_test_poly = poly.fit_transform(X_test)\n",
    "\n",
    "        # Get scores\n",
    "        training_score = logreg.score(X_train_poly, Y_train)\n",
    "        testing_score = logreg.score(X_test_poly, Y_test)\n",
    "\n",
    "        # Append accuracy\n",
    "        training_acc.append(training_score)\n",
    "        testing_acc.append(testing_score)\n",
    "\n",
    "        # Append errors\n",
    "        training_error.append(1 - training_score)\n",
    "        testing_error.append(1 - testing_score)\n",
    "\n",
    "        # Fancy print B)\n",
    "        print(f\"{i} \\t {testing_score*100.0:.2f}% \\t {training_score*100.0:.2f}%\")\n",
    "\n",
    "    return training_error, testing_error, training_acc, testing_acc"
   ]
  },
  {
   "cell_type": "code",
   "execution_count": 223,
   "metadata": {
    "notebookRunGroups": {
     "groupValue": "1"
    }
   },
   "outputs": [
    {
     "name": "stdout",
     "output_type": "stream",
     "text": [
      "Polynomial Logistic Regression Score\n",
      "Degree \t Test Score \t Train Score\n",
      "1 \t 88.95% \t 88.06%\n",
      "2 \t 87.47% \t 89.98%\n"
     ]
    },
    {
     "name": "stderr",
     "output_type": "stream",
     "text": [
      "/Users/juan/Documents/ML/f1venv/formula1/venv/lib/python3.11/site-packages/sklearn/linear_model/_logistic.py:458: ConvergenceWarning: lbfgs failed to converge (status=1):\n",
      "STOP: TOTAL NO. of f AND g EVALUATIONS EXCEEDS LIMIT.\n",
      "\n",
      "Increase the number of iterations (max_iter) or scale the data as shown in:\n",
      "    https://scikit-learn.org/stable/modules/preprocessing.html\n",
      "Please also refer to the documentation for alternative solver options:\n",
      "    https://scikit-learn.org/stable/modules/linear_model.html#logistic-regression\n",
      "  n_iter_i = _check_optimize_result(\n"
     ]
    },
    {
     "name": "stdout",
     "output_type": "stream",
     "text": [
      "3 \t 85.31% \t 95.85%\n"
     ]
    },
    {
     "name": "stderr",
     "output_type": "stream",
     "text": [
      "/Users/juan/Documents/ML/f1venv/formula1/venv/lib/python3.11/site-packages/sklearn/linear_model/_logistic.py:458: ConvergenceWarning: lbfgs failed to converge (status=1):\n",
      "STOP: TOTAL NO. of f AND g EVALUATIONS EXCEEDS LIMIT.\n",
      "\n",
      "Increase the number of iterations (max_iter) or scale the data as shown in:\n",
      "    https://scikit-learn.org/stable/modules/preprocessing.html\n",
      "Please also refer to the documentation for alternative solver options:\n",
      "    https://scikit-learn.org/stable/modules/linear_model.html#logistic-regression\n",
      "  n_iter_i = _check_optimize_result(\n"
     ]
    },
    {
     "name": "stdout",
     "output_type": "stream",
     "text": [
      "4 \t 83.02% \t 99.46%\n"
     ]
    }
   ],
   "source": [
    "(\n",
    "    training_error,\n",
    "    testing_error,\n",
    "    training_acc,\n",
    "    testing_acc,\n",
    ") = polynomial_logistic_regression(X_train, Y_train, X_test, Y_test, max_degree=7)"
   ]
  },
  {
   "cell_type": "code",
   "execution_count": null,
   "metadata": {
    "notebookRunGroups": {
     "groupValue": "1"
    }
   },
   "outputs": [
    {
     "data": {
      "image/png": "[encoded data removed]",
      "text/plain": [
       "<Figure size 640x480 with 1 Axes>"
      ]
     },
     "metadata": {},
     "output_type": "display_data"
    },
    {
     "data": {
      "image/png": "[encoded data removed]",
      "text/plain": [
       "<Figure size 640x480 with 1 Axes>"
      ]
     },
     "metadata": {},
     "output_type": "display_data"
    }
   ],
   "source": [
    "plot(training_error, testing_error, training_acc, testing_acc)\n"
   ]
  },
  {
   "attachments": {},
   "cell_type": "markdown",
   "metadata": {},
   "source": [
    "# 4B SVM"
   ]
  },
  {
   "cell_type": "code",
   "execution_count": null,
   "metadata": {
    "notebookRunGroups": {
     "groupValue": "2"
    }
   },
   "outputs": [],
   "source": [
    "# svmachine = SVC(kernel='rbf', C=1E6)\n",
    "# svmachine.fit(X_train, Y_train)\n",
    "# svmachine.score(X_train, Y_train)"
   ]
  },
  {
   "cell_type": "code",
   "execution_count": null,
   "metadata": {
    "notebookRunGroups": {
     "groupValue": "2"
    }
   },
   "outputs": [],
   "source": [
    "def polynomial_svm(X_train, Y_train, X_test, Y_test, max_degree=6):\n",
    "    \"\"\"Polynomial Support Vector Machine\n",
    "\n",
    "    Args:\n",
    "        X_train (np.array): Training data\n",
    "        Y_train (np.array): Training labels\n",
    "        X_test (np.array): Testing data\n",
    "        Y_test (np.array): Testing labels\n",
    "    \"\"\"\n",
    "    training_error, testing_error = [], []\n",
    "    training_acc, testing_acc = [], []\n",
    "\n",
    "    print(\"Polynomial SVM Score\")\n",
    "    print(\"Degree \\t Test Score \\t Train Score\")\n",
    "    for i in range(1, max_degree + 1):\n",
    "        svmachine = SVC(kernel=\"linear\")\n",
    "\n",
    "        # Init polynomial features\n",
    "        poly = PolynomialFeatures(degree=i)\n",
    "\n",
    "        # # Polynomial fit of training data\n",
    "        X_train_poly = poly.fit_transform(X_train)\n",
    "        X_test_poly = poly.fit_transform(X_test)\n",
    "\n",
    "        svmachine.fit(X_train_poly, Y_train)\n",
    "        # Get scores\n",
    "        training_score = svmachine.score(X_train_poly, Y_train)\n",
    "        testing_score = svmachine.score(X_test_poly, Y_test)\n",
    "\n",
    "        # Append accuracy\n",
    "        training_acc.append(training_score)\n",
    "        testing_acc.append(testing_score)\n",
    "\n",
    "        # Append errors\n",
    "        training_error.append(1 - training_score)\n",
    "        testing_error.append(1 - testing_score)\n",
    "\n",
    "        # Fancy print B)\n",
    "        print(f\"{i} \\t {testing_score*100.0:.2f}% \\t {training_score*100.0:.2f}%\")\n",
    "\n",
    "    return training_error, testing_error, training_acc, testing_acc\n"
   ]
  },
  {
   "cell_type": "code",
   "execution_count": null,
   "metadata": {
    "notebookRunGroups": {
     "groupValue": "2"
    }
   },
   "outputs": [],
   "source": [
    "training_error, testing_error, training_acc, testing_acc = polynomial_svm(\n",
    "    X_train, Y_train, X_test, Y_test, max_degree=5\n",
    ")\n"
   ]
  },
  {
   "cell_type": "code",
   "execution_count": null,
   "metadata": {
    "notebookRunGroups": {
     "groupValue": "2"
    }
   },
   "outputs": [],
   "source": [
    "plot(training_error, testing_error, training_acc, testing_acc)\n"
   ]
  },
  {
   "attachments": {},
   "cell_type": "markdown",
   "metadata": {},
   "source": [
    "# 4C Neural Network"
   ]
  },
  {
   "cell_type": "code",
   "execution_count": null,
   "metadata": {
    "notebookRunGroups": {
     "groupValue": "1"
    }
   },
   "outputs": [
    {
     "name": "stdout",
     "output_type": "stream",
     "text": [
      "Epoch 1/100\n",
      "138/138 [==============================] - 1s 2ms/step - loss: 0.1744 - accuracy: 0.1572 - val_loss: 0.1918 - val_accuracy: 0.1179\n",
      "Epoch 2/100\n",
      "138/138 [==============================] - 0s 1ms/step - loss: 0.1886 - accuracy: 0.0996 - val_loss: 0.2068 - val_accuracy: 0.1034\n",
      "Epoch 3/100\n",
      "138/138 [==============================] - 0s 1ms/step - loss: 0.1962 - accuracy: 0.0948 - val_loss: 0.2214 - val_accuracy: 0.0680\n",
      "Epoch 4/100\n",
      "138/138 [==============================] - 0s 1ms/step - loss: 0.2091 - accuracy: 0.0488 - val_loss: 0.2240 - val_accuracy: 0.0571\n",
      "Epoch 5/100\n",
      "138/138 [==============================] - 0s 1ms/step - loss: 0.2138 - accuracy: 0.0458 - val_loss: 0.2293 - val_accuracy: 0.0571\n",
      "Epoch 6/100\n",
      "138/138 [==============================] - 0s 1ms/step - loss: 0.2156 - accuracy: 0.0404 - val_loss: 0.2341 - val_accuracy: 0.0399\n",
      "Epoch 7/100\n",
      "138/138 [==============================] - 0s 1ms/step - loss: 0.2195 - accuracy: 0.0200 - val_loss: 0.2368 - val_accuracy: 0.0227\n",
      "Epoch 8/100\n",
      "138/138 [==============================] - 0s 1ms/step - loss: 0.2223 - accuracy: 0.0181 - val_loss: 0.2383 - val_accuracy: 0.0281\n",
      "Epoch 9/100\n",
      "138/138 [==============================] - 0s 1ms/step - loss: 0.2216 - accuracy: 0.0279 - val_loss: 0.2398 - val_accuracy: 0.0290\n",
      "Epoch 10/100\n",
      "138/138 [==============================] - 0s 1ms/step - loss: 0.2227 - accuracy: 0.0193 - val_loss: 0.2428 - val_accuracy: 0.0109\n",
      "Epoch 11/100\n",
      "138/138 [==============================] - 0s 1ms/step - loss: 0.2225 - accuracy: 0.0186 - val_loss: 0.2463 - val_accuracy: 0.0145\n",
      "Epoch 12/100\n",
      "138/138 [==============================] - 0s 1ms/step - loss: 0.2248 - accuracy: 0.0193 - val_loss: 0.2430 - val_accuracy: 0.0109\n",
      "Epoch 13/100\n",
      "138/138 [==============================] - 0s 1ms/step - loss: 0.2219 - accuracy: 0.0166 - val_loss: 0.2444 - val_accuracy: 0.0127\n",
      "Epoch 14/100\n",
      "138/138 [==============================] - 0s 1ms/step - loss: 0.2173 - accuracy: 0.0172 - val_loss: 0.2426 - val_accuracy: 0.0118\n",
      "Epoch 15/100\n",
      "138/138 [==============================] - 0s 1ms/step - loss: 0.2139 - accuracy: 0.0152 - val_loss: 0.2377 - val_accuracy: 0.0109\n",
      "Epoch 16/100\n",
      "138/138 [==============================] - 0s 1ms/step - loss: 0.2089 - accuracy: 0.0181 - val_loss: 0.2306 - val_accuracy: 0.0109\n",
      "Epoch 17/100\n",
      "138/138 [==============================] - 0s 1ms/step - loss: 0.2073 - accuracy: 0.0177 - val_loss: 0.2235 - val_accuracy: 0.0145\n",
      "Epoch 18/100\n",
      "138/138 [==============================] - 0s 1ms/step - loss: 0.2095 - accuracy: 0.0143 - val_loss: 0.2192 - val_accuracy: 0.0181\n",
      "Epoch 19/100\n",
      "138/138 [==============================] - 0s 1ms/step - loss: 0.2049 - accuracy: 0.0116 - val_loss: 0.2147 - val_accuracy: 0.0163\n",
      "Epoch 20/100\n",
      "138/138 [==============================] - 0s 1ms/step - loss: 0.2046 - accuracy: 0.0134 - val_loss: 0.2143 - val_accuracy: 0.0091\n",
      "Epoch 21/100\n",
      "138/138 [==============================] - 0s 1ms/step - loss: 0.2073 - accuracy: 0.0086 - val_loss: 0.2170 - val_accuracy: 0.0100\n",
      "Epoch 22/100\n",
      "138/138 [==============================] - 0s 1ms/step - loss: 0.2057 - accuracy: 0.0111 - val_loss: 0.2271 - val_accuracy: 0.0063\n",
      "Epoch 23/100\n",
      "138/138 [==============================] - 0s 1ms/step - loss: 0.2078 - accuracy: 0.0147 - val_loss: 0.2204 - val_accuracy: 0.0027\n",
      "Epoch 24/100\n",
      "138/138 [==============================] - 0s 1ms/step - loss: 0.2069 - accuracy: 0.0116 - val_loss: 0.2141 - val_accuracy: 0.0073\n",
      "Epoch 25/100\n",
      "138/138 [==============================] - 0s 1ms/step - loss: 0.2080 - accuracy: 0.0159 - val_loss: 0.2180 - val_accuracy: 9.0662e-04\n",
      "Epoch 26/100\n",
      "138/138 [==============================] - 0s 1ms/step - loss: 0.2061 - accuracy: 0.0261 - val_loss: 0.2164 - val_accuracy: 0.0517\n",
      "Epoch 27/100\n",
      "138/138 [==============================] - 0s 1ms/step - loss: 0.2057 - accuracy: 0.0213 - val_loss: 0.2323 - val_accuracy: 0.0000e+00\n",
      "Epoch 28/100\n",
      "138/138 [==============================] - 0s 1ms/step - loss: 0.2062 - accuracy: 0.0730 - val_loss: 0.2175 - val_accuracy: 0.0063\n",
      "Epoch 29/100\n",
      "138/138 [==============================] - 0s 1ms/step - loss: 0.2072 - accuracy: 0.0243 - val_loss: 0.2244 - val_accuracy: 0.0490\n",
      "Epoch 30/100\n",
      "138/138 [==============================] - 0s 1ms/step - loss: 0.2071 - accuracy: 0.0268 - val_loss: 0.2111 - val_accuracy: 0.0063\n",
      "Epoch 31/100\n",
      "138/138 [==============================] - 0s 1ms/step - loss: 0.2060 - accuracy: 0.0433 - val_loss: 0.2138 - val_accuracy: 0.0490\n",
      "Epoch 32/100\n",
      "138/138 [==============================] - 0s 1ms/step - loss: 0.2062 - accuracy: 0.0801 - val_loss: 0.2212 - val_accuracy: 0.0000e+00\n",
      "Epoch 33/100\n",
      "138/138 [==============================] - 0s 1ms/step - loss: 0.2039 - accuracy: 0.0708 - val_loss: 0.2134 - val_accuracy: 0.0517\n",
      "Epoch 34/100\n",
      "138/138 [==============================] - 0s 1ms/step - loss: 0.2043 - accuracy: 0.0969 - val_loss: 0.2193 - val_accuracy: 0.0000e+00\n",
      "Epoch 35/100\n",
      "138/138 [==============================] - 0s 1ms/step - loss: 0.2035 - accuracy: 0.0719 - val_loss: 0.2188 - val_accuracy: 0.0490\n",
      "Epoch 36/100\n",
      "138/138 [==============================] - 0s 1ms/step - loss: 0.2049 - accuracy: 0.0499 - val_loss: 0.2146 - val_accuracy: 0.0490\n",
      "Epoch 37/100\n",
      "138/138 [==============================] - 0s 1ms/step - loss: 0.2077 - accuracy: 0.1186 - val_loss: 0.2130 - val_accuracy: 0.0517\n",
      "Epoch 38/100\n",
      "138/138 [==============================] - 0s 1ms/step - loss: 0.2033 - accuracy: 0.0315 - val_loss: 0.2160 - val_accuracy: 0.0000e+00\n",
      "Epoch 39/100\n",
      "138/138 [==============================] - 0s 1ms/step - loss: 0.2031 - accuracy: 0.0120 - val_loss: 0.2145 - val_accuracy: 0.0490\n",
      "Epoch 40/100\n",
      "138/138 [==============================] - 0s 1ms/step - loss: 0.2041 - accuracy: 0.1822 - val_loss: 0.2107 - val_accuracy: 0.8994\n",
      "Epoch 41/100\n",
      "138/138 [==============================] - 0s 1ms/step - loss: 0.2034 - accuracy: 0.1116 - val_loss: 0.2268 - val_accuracy: 0.0000e+00\n",
      "Epoch 42/100\n",
      "138/138 [==============================] - 0s 1ms/step - loss: 0.2015 - accuracy: 0.1073 - val_loss: 0.2108 - val_accuracy: 0.0490\n",
      "Epoch 43/100\n",
      "138/138 [==============================] - 0s 1ms/step - loss: 0.2014 - accuracy: 0.1323 - val_loss: 0.2216 - val_accuracy: 0.0000e+00\n",
      "Epoch 44/100\n",
      "138/138 [==============================] - 0s 1ms/step - loss: 0.1999 - accuracy: 0.1257 - val_loss: 0.2139 - val_accuracy: 0.8994\n",
      "Epoch 45/100\n",
      "138/138 [==============================] - 0s 1ms/step - loss: 0.2012 - accuracy: 0.1697 - val_loss: 0.2265 - val_accuracy: 0.0490\n",
      "Epoch 46/100\n",
      "138/138 [==============================] - 0s 1ms/step - loss: 0.2014 - accuracy: 0.1717 - val_loss: 0.2155 - val_accuracy: 0.0000e+00\n",
      "Epoch 47/100\n",
      "138/138 [==============================] - 0s 1ms/step - loss: 0.1993 - accuracy: 0.1105 - val_loss: 0.2086 - val_accuracy: 0.0490\n",
      "Epoch 48/100\n",
      "138/138 [==============================] - 0s 1ms/step - loss: 0.2011 - accuracy: 0.1336 - val_loss: 0.2152 - val_accuracy: 0.8994\n",
      "Epoch 49/100\n",
      "138/138 [==============================] - 0s 1ms/step - loss: 0.2006 - accuracy: 0.2144 - val_loss: 0.2135 - val_accuracy: 0.0490\n",
      "Epoch 50/100\n",
      "138/138 [==============================] - 0s 1ms/step - loss: 0.2005 - accuracy: 0.1620 - val_loss: 0.2088 - val_accuracy: 0.0490\n",
      "Epoch 51/100\n",
      "138/138 [==============================] - 0s 1ms/step - loss: 0.1985 - accuracy: 0.1252 - val_loss: 0.2220 - val_accuracy: 0.0490\n",
      "Epoch 52/100\n",
      "138/138 [==============================] - 0s 1ms/step - loss: 0.1998 - accuracy: 0.1559 - val_loss: 0.2202 - val_accuracy: 0.0490\n",
      "Epoch 53/100\n",
      "138/138 [==============================] - 0s 1ms/step - loss: 0.2021 - accuracy: 0.1257 - val_loss: 0.2168 - val_accuracy: 0.0000e+00\n",
      "Epoch 54/100\n",
      "138/138 [==============================] - 0s 1ms/step - loss: 0.1983 - accuracy: 0.1729 - val_loss: 0.2076 - val_accuracy: 0.0490\n",
      "Epoch 55/100\n",
      "138/138 [==============================] - 0s 1ms/step - loss: 0.2011 - accuracy: 0.2623 - val_loss: 0.2150 - val_accuracy: 0.0490\n",
      "Epoch 56/100\n",
      "138/138 [==============================] - 0s 1ms/step - loss: 0.1990 - accuracy: 0.2484 - val_loss: 0.2129 - val_accuracy: 0.0517\n",
      "Epoch 57/100\n",
      "138/138 [==============================] - 0s 1ms/step - loss: 0.1990 - accuracy: 0.1667 - val_loss: 0.2083 - val_accuracy: 0.0517\n",
      "Epoch 58/100\n",
      "138/138 [==============================] - 0s 1ms/step - loss: 0.1980 - accuracy: 0.2196 - val_loss: 0.2149 - val_accuracy: 0.0490\n",
      "Epoch 59/100\n",
      "138/138 [==============================] - 0s 1ms/step - loss: 0.1992 - accuracy: 0.2439 - val_loss: 0.2172 - val_accuracy: 0.8994\n",
      "Epoch 60/100\n",
      "138/138 [==============================] - 0s 1ms/step - loss: 0.2034 - accuracy: 0.2393 - val_loss: 0.2109 - val_accuracy: 0.0517\n",
      "Epoch 61/100\n",
      "138/138 [==============================] - 0s 1ms/step - loss: 0.1976 - accuracy: 0.1495 - val_loss: 0.2055 - val_accuracy: 0.0490\n",
      "Epoch 62/100\n",
      "138/138 [==============================] - 0s 1ms/step - loss: 0.1965 - accuracy: 0.2543 - val_loss: 0.2244 - val_accuracy: 0.0000e+00\n",
      "Epoch 63/100\n",
      "138/138 [==============================] - 0s 1ms/step - loss: 0.1975 - accuracy: 0.2579 - val_loss: 0.2251 - val_accuracy: 0.8994\n",
      "Epoch 64/100\n",
      "138/138 [==============================] - 0s 1ms/step - loss: 0.1961 - accuracy: 0.1858 - val_loss: 0.2169 - val_accuracy: 0.0490\n",
      "Epoch 65/100\n",
      "138/138 [==============================] - 0s 1ms/step - loss: 0.1959 - accuracy: 0.1958 - val_loss: 0.2072 - val_accuracy: 0.0490\n",
      "Epoch 66/100\n",
      "138/138 [==============================] - 0s 1ms/step - loss: 0.1976 - accuracy: 0.2643 - val_loss: 0.2121 - val_accuracy: 0.0000e+00\n",
      "Epoch 67/100\n",
      "138/138 [==============================] - 0s 1ms/step - loss: 0.1987 - accuracy: 0.3137 - val_loss: 0.2157 - val_accuracy: 0.0000e+00\n",
      "Epoch 68/100\n",
      "138/138 [==============================] - 0s 1ms/step - loss: 0.1958 - accuracy: 0.2888 - val_loss: 0.2108 - val_accuracy: 0.0000e+00\n",
      "Epoch 69/100\n",
      "138/138 [==============================] - 0s 1ms/step - loss: 0.1934 - accuracy: 0.2430 - val_loss: 0.2111 - val_accuracy: 0.8994\n",
      "Epoch 70/100\n",
      "138/138 [==============================] - 0s 1ms/step - loss: 0.1957 - accuracy: 0.2461 - val_loss: 0.2059 - val_accuracy: 0.0490\n",
      "Epoch 71/100\n",
      "138/138 [==============================] - 0s 1ms/step - loss: 0.1960 - accuracy: 0.2727 - val_loss: 0.2145 - val_accuracy: 0.8994\n",
      "Epoch 72/100\n",
      "138/138 [==============================] - 0s 1ms/step - loss: 0.1968 - accuracy: 0.2786 - val_loss: 0.2112 - val_accuracy: 0.0490\n",
      "Epoch 73/100\n",
      "138/138 [==============================] - 0s 1ms/step - loss: 0.1952 - accuracy: 0.2244 - val_loss: 0.2134 - val_accuracy: 0.8994\n",
      "Epoch 74/100\n",
      "138/138 [==============================] - 0s 1ms/step - loss: 0.1960 - accuracy: 0.2668 - val_loss: 0.2079 - val_accuracy: 0.8994\n",
      "Epoch 75/100\n",
      "138/138 [==============================] - 0s 1ms/step - loss: 0.1944 - accuracy: 0.2704 - val_loss: 0.2071 - val_accuracy: 0.0490\n",
      "Epoch 76/100\n",
      "138/138 [==============================] - 0s 1ms/step - loss: 0.1951 - accuracy: 0.2788 - val_loss: 0.2118 - val_accuracy: 0.0490\n",
      "Epoch 77/100\n",
      "138/138 [==============================] - 0s 1ms/step - loss: 0.1945 - accuracy: 0.2688 - val_loss: 0.2061 - val_accuracy: 0.7833\n",
      "Epoch 78/100\n",
      "138/138 [==============================] - 0s 1ms/step - loss: 0.1945 - accuracy: 0.2216 - val_loss: 0.2136 - val_accuracy: 0.0517\n",
      "Epoch 79/100\n",
      "138/138 [==============================] - 0s 1ms/step - loss: 0.1933 - accuracy: 0.3305 - val_loss: 0.2174 - val_accuracy: 0.0000e+00\n",
      "Epoch 80/100\n",
      "138/138 [==============================] - 0s 1ms/step - loss: 0.1923 - accuracy: 0.2493 - val_loss: 0.2085 - val_accuracy: 0.0517\n",
      "Epoch 81/100\n",
      "138/138 [==============================] - 0s 1ms/step - loss: 0.1953 - accuracy: 0.2729 - val_loss: 0.2050 - val_accuracy: 0.8994\n",
      "Epoch 82/100\n",
      "138/138 [==============================] - 0s 1ms/step - loss: 0.1923 - accuracy: 0.2854 - val_loss: 0.2055 - val_accuracy: 0.0490\n",
      "Epoch 83/100\n",
      "138/138 [==============================] - 0s 1ms/step - loss: 0.1944 - accuracy: 0.2103 - val_loss: 0.2087 - val_accuracy: 0.8994\n",
      "Epoch 84/100\n",
      "138/138 [==============================] - 0s 1ms/step - loss: 0.1930 - accuracy: 0.2768 - val_loss: 0.2177 - val_accuracy: 0.0490\n",
      "Epoch 85/100\n",
      "138/138 [==============================] - 0s 1ms/step - loss: 0.1961 - accuracy: 0.3367 - val_loss: 0.2189 - val_accuracy: 0.0517\n",
      "Epoch 86/100\n",
      "138/138 [==============================] - 0s 1ms/step - loss: 0.1939 - accuracy: 0.2604 - val_loss: 0.1955 - val_accuracy: 0.0490\n",
      "Epoch 87/100\n",
      "138/138 [==============================] - 0s 1ms/step - loss: 0.1920 - accuracy: 0.3078 - val_loss: 0.2104 - val_accuracy: 0.0490\n",
      "Epoch 88/100\n",
      "138/138 [==============================] - 0s 1ms/step - loss: 0.1930 - accuracy: 0.2877 - val_loss: 0.2012 - val_accuracy: 0.0490\n",
      "Epoch 89/100\n",
      "138/138 [==============================] - 0s 1ms/step - loss: 0.1924 - accuracy: 0.3289 - val_loss: 0.2119 - val_accuracy: 0.0517\n",
      "Epoch 90/100\n",
      "138/138 [==============================] - 0s 1ms/step - loss: 0.1957 - accuracy: 0.3144 - val_loss: 0.2056 - val_accuracy: 0.8994\n",
      "Epoch 91/100\n",
      "138/138 [==============================] - 0s 1ms/step - loss: 0.1957 - accuracy: 0.3373 - val_loss: 0.2137 - val_accuracy: 0.0517\n",
      "Epoch 92/100\n",
      "138/138 [==============================] - 0s 1ms/step - loss: 0.1962 - accuracy: 0.3696 - val_loss: 0.2005 - val_accuracy: 0.0517\n",
      "Epoch 93/100\n",
      "138/138 [==============================] - 0s 1ms/step - loss: 0.1929 - accuracy: 0.3562 - val_loss: 0.2106 - val_accuracy: 0.0490\n",
      "Epoch 94/100\n",
      "138/138 [==============================] - 0s 1ms/step - loss: 0.1938 - accuracy: 0.2743 - val_loss: 0.2138 - val_accuracy: 0.0490\n",
      "Epoch 95/100\n",
      "138/138 [==============================] - 0s 1ms/step - loss: 0.1916 - accuracy: 0.2625 - val_loss: 0.2119 - val_accuracy: 0.0490\n",
      "Epoch 96/100\n",
      "138/138 [==============================] - 0s 1ms/step - loss: 0.1906 - accuracy: 0.2995 - val_loss: 0.2083 - val_accuracy: 0.8994\n",
      "Epoch 97/100\n",
      "138/138 [==============================] - 0s 1ms/step - loss: 0.1895 - accuracy: 0.2951 - val_loss: 0.2104 - val_accuracy: 0.8994\n",
      "Epoch 98/100\n",
      "138/138 [==============================] - 0s 1ms/step - loss: 0.1880 - accuracy: 0.3405 - val_loss: 0.2117 - val_accuracy: 0.0000e+00\n",
      "Epoch 99/100\n",
      "138/138 [==============================] - 0s 1ms/step - loss: 0.1901 - accuracy: 0.3235 - val_loss: 0.2098 - val_accuracy: 0.0517\n",
      "Epoch 100/100\n",
      "138/138 [==============================] - 0s 1ms/step - loss: 0.1893 - accuracy: 0.2995 - val_loss: 0.2140 - val_accuracy: 0.8994\n",
      "35/35 [==============================] - 0s 746us/step - loss: 0.2140 - accuracy: 0.8994\n",
      "Test loss: 21.40% \t Test accuracy: 89.94%\n"
     ]
    }
   ],
   "source": [
    "# Define the model architecture\n",
    "model = Sequential(\n",
    "    [\n",
    "        Dense(32, activation=\"tanh\", input_shape=(10,)),\n",
    "        Dense(16, activation=\"elu\"),\n",
    "        Dense(4, activation=\"softmax\"),\n",
    "    ]\n",
    ")\n",
    "\n",
    "# Compile the model with an optimizer, loss function, and metrics\n",
    "model.compile(optimizer=\"adam\", loss=\"categorical_crossentropy\", metrics=[\"accuracy\"])\n",
    "\n",
    "Y_train_one_hot = tf.one_hot(Y_train - 1, depth=4)\n",
    "Y_test_one_hot = tf.one_hot(Y_test - 1, depth=4)\n",
    "\n",
    "# Train the model on the training data\n",
    "model.fit(\n",
    "    X_train,\n",
    "    Y_train_one_hot,\n",
    "    epochs=100,\n",
    "    batch_size=32,\n",
    "    validation_data=(X_test, Y_test_one_hot),\n",
    ")\n",
    "\n",
    "# Evaluate the model on the test data\n",
    "loss, accuracy = model.evaluate(X_test, Y_test_one_hot)\n",
    "print(f\"Test loss: {loss*100:.2f}% \\t Test accuracy: {accuracy*100:.2f}%\")"
   ]
  },
  {
   "cell_type": "code",
   "execution_count": null,
   "metadata": {},
   "outputs": [],
   "source": []
  }
 ],
 "metadata": {
  "kernelspec": {
   "display_name": "venv",
   "language": "python",
   "name": "python3"
  },
  "language_info": {
   "codemirror_mode": {
    "name": "ipython",
    "version": 3
   },
   "file_extension": ".py",
   "mimetype": "text/x-python",
   "name": "python",
   "nbconvert_exporter": "python",
   "pygments_lexer": "ipython3",
   "version": "3.11.2"
  },
  "orig_nbformat": 4
 },
 "nbformat": 4,
 "nbformat_minor": 2
}
